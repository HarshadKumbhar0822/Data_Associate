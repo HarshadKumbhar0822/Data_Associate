{
  "nbformat": 4,
  "nbformat_minor": 0,
  "metadata": {
    "colab": {
      "provenance": [],
      "authorship_tag": "ABX9TyM0HWOo5m412Rp2ywM16qd5",
      "include_colab_link": true
    },
    "kernelspec": {
      "name": "python3",
      "display_name": "Python 3"
    },
    "language_info": {
      "name": "python"
    }
  },
  "cells": [
    {
      "cell_type": "markdown",
      "metadata": {
        "id": "view-in-github",
        "colab_type": "text"
      },
      "source": [
        "<a href=\"https://colab.research.google.com/github/HarshadKumbhar0822/Data_Associate/blob/main/Numpy.ipynb\" target=\"_parent\"><img src=\"https://colab.research.google.com/assets/colab-badge.svg\" alt=\"Open In Colab\"/></a>"
      ]
    },
    {
      "cell_type": "code",
      "execution_count": null,
      "metadata": {
        "colab": {
          "base_uri": "https://localhost:8080/"
        },
        "id": "FtM9PvmFYVVW",
        "outputId": "ec40e41d-e9cd-44be-c383-986f9ae754aa"
      },
      "outputs": [
        {
          "output_type": "stream",
          "name": "stdout",
          "text": [
            "(1, 1, 2, 3)\n",
            "4\n"
          ]
        }
      ],
      "source": [
        "import numpy as np\n",
        "#(2,3,2,3)\n",
        "# 4d array use of numpy\n",
        "\n",
        "arr = np.array([[[[1,2,3],[11,12,13]]]])\n",
        "print(arr.shape)\n",
        "print(arr.ndim)"
      ]
    },
    {
      "cell_type": "code",
      "source": [
        "\n",
        "\n",
        "# Generate 4d array (4,3,2,1)\n",
        "arr_new = np.array([[[[1],[2]],[[3],[4]],[[5],[6]]],\n",
        "                    [[[7],[8]],[[9],[10]],[[11],[12]]],\n",
        "                    [[[13],[14]],[[15],[16]],[[17],[18]]],\n",
        "                    [[[19],[20]],[[21],[22]],[[23],[24]]]])\n",
        "print(arr_new.shape)\n",
        "print(arr_new.ndim)\n"
      ],
      "metadata": {
        "colab": {
          "base_uri": "https://localhost:8080/"
        },
        "id": "0BqNjsJJZYqB",
        "outputId": "358fe116-adc0-459c-e26f-f9676f9a19e5"
      },
      "execution_count": null,
      "outputs": [
        {
          "output_type": "stream",
          "name": "stdout",
          "text": [
            "(4, 3, 2, 1)\n",
            "4\n"
          ]
        }
      ]
    },
    {
      "cell_type": "code",
      "source": [
        "arrr = np.array([[[[6],[9]],[[6],[9]],[[6],[9]]],[[[6],[9]],[[6],[9]],[[6],[9]]],[[[6],[9]],[[6],[9]],[[6],[9]]],[[[6],[9]],[[6],[9]],[[6],[9]]]])\n",
        "print(arrr.shape)\n",
        "print(arrr.ndim)"
      ],
      "metadata": {
        "colab": {
          "base_uri": "https://localhost:8080/"
        },
        "id": "4UKXtRe1a9FZ",
        "outputId": "7db59d29-dc87-4593-f71c-d7c0e3241451"
      },
      "execution_count": null,
      "outputs": [
        {
          "output_type": "stream",
          "name": "stdout",
          "text": [
            "(4, 3, 2, 1)\n",
            "4\n"
          ]
        }
      ]
    },
    {
      "cell_type": "code",
      "source": [
        "arr = np.array([[4,5],[2,9]])\n",
        "print(arr[0:2,1:])"
      ],
      "metadata": {
        "colab": {
          "base_uri": "https://localhost:8080/"
        },
        "id": "zzUbeaaXb2AI",
        "outputId": "96083cea-e93a-4648-aa25-3cc2f44d6db3"
      },
      "execution_count": null,
      "outputs": [
        {
          "output_type": "stream",
          "name": "stdout",
          "text": [
            "[[5]\n",
            " [9]]\n"
          ]
        }
      ]
    },
    {
      "cell_type": "code",
      "source": [
        "arr = np.ones((3,3), 'int32')\n",
        "print(arr)"
      ],
      "metadata": {
        "colab": {
          "base_uri": "https://localhost:8080/"
        },
        "id": "DFIBvK2ufCNu",
        "outputId": "c6f8a814-26e6-4d80-ef53-5001b3d5e06b"
      },
      "execution_count": null,
      "outputs": [
        {
          "output_type": "stream",
          "name": "stdout",
          "text": [
            "[[1 1 1]\n",
            " [1 1 1]\n",
            " [1 1 1]]\n"
          ]
        }
      ]
    },
    {
      "cell_type": "code",
      "source": [
        "arr = np.zeros((3,3), 'int32')\n",
        "print(arr)"
      ],
      "metadata": {
        "colab": {
          "base_uri": "https://localhost:8080/"
        },
        "id": "VR0S-hgFfm0m",
        "outputId": "37bb0f67-3021-442d-8da6-cb6f28d6e6a8"
      },
      "execution_count": null,
      "outputs": [
        {
          "output_type": "stream",
          "name": "stdout",
          "text": [
            "[[0 0 0]\n",
            " [0 0 0]\n",
            " [0 0 0]]\n"
          ]
        }
      ]
    },
    {
      "cell_type": "code",
      "source": [
        "arr = np.full((3,3,2), 99, 'int32')\n",
        "print(arr)"
      ],
      "metadata": {
        "colab": {
          "base_uri": "https://localhost:8080/"
        },
        "id": "nei0Hgt5f1mn",
        "outputId": "eabb56e7-f424-4dce-935b-09361134c0ee"
      },
      "execution_count": null,
      "outputs": [
        {
          "output_type": "stream",
          "name": "stdout",
          "text": [
            "[[[99 99]\n",
            "  [99 99]\n",
            "  [99 99]]\n",
            "\n",
            " [[99 99]\n",
            "  [99 99]\n",
            "  [99 99]]\n",
            "\n",
            " [[99 99]\n",
            "  [99 99]\n",
            "  [99 99]]]\n"
          ]
        }
      ]
    },
    {
      "cell_type": "code",
      "source": [
        "arr = np.eye(5,5)\n",
        "print(arr)\n"
      ],
      "metadata": {
        "colab": {
          "base_uri": "https://localhost:8080/"
        },
        "id": "sFl4ilfSgWRd",
        "outputId": "a377184b-2fca-49ab-a95e-ff4870c9d450"
      },
      "execution_count": null,
      "outputs": [
        {
          "output_type": "stream",
          "name": "stdout",
          "text": [
            "[[1. 0. 0. 0. 0.]\n",
            " [0. 1. 0. 0. 0.]\n",
            " [0. 0. 1. 0. 0.]\n",
            " [0. 0. 0. 1. 0.]\n",
            " [0. 0. 0. 0. 1.]]\n"
          ]
        }
      ]
    },
    {
      "cell_type": "code",
      "source": [
        "import pandas as pd\n",
        "arr = np.random.random((3,3)).reshape(9,)\n",
        "df = pd.Series(arr)\n",
        "print(df)"
      ],
      "metadata": {
        "colab": {
          "base_uri": "https://localhost:8080/"
        },
        "id": "WOd50ITegn8a",
        "outputId": "ca363099-bed7-4b36-8d7b-881e55683640"
      },
      "execution_count": null,
      "outputs": [
        {
          "output_type": "stream",
          "name": "stdout",
          "text": [
            "0    0.635471\n",
            "1    0.494663\n",
            "2    0.890886\n",
            "3    0.160488\n",
            "4    0.300296\n",
            "5    0.006472\n",
            "6    0.369782\n",
            "7    0.828335\n",
            "8    0.936165\n",
            "dtype: float64\n"
          ]
        }
      ]
    },
    {
      "cell_type": "code",
      "source": [
        "arr = np.random.randint(1,100,(2,10))\n",
        "print(arr)"
      ],
      "metadata": {
        "colab": {
          "base_uri": "https://localhost:8080/"
        },
        "id": "2KOaulrNiEOW",
        "outputId": "4c949d78-95ad-4b36-fc67-5a6c3850180c"
      },
      "execution_count": null,
      "outputs": [
        {
          "output_type": "stream",
          "name": "stdout",
          "text": [
            "[[62 60 39 57 83 30 34 37  1 27]\n",
            " [29 80 19 88 11 34 33 35 36 31]]\n"
          ]
        }
      ]
    },
    {
      "cell_type": "code",
      "source": [
        "arr = np.arange(1,2)\n",
        "arr1 = np.arange(3,6,1)\n",
        "arr1"
      ],
      "metadata": {
        "colab": {
          "base_uri": "https://localhost:8080/"
        },
        "id": "6eKLAoMXklQS",
        "outputId": "f544cf20-599b-4946-c06c-750969229fed"
      },
      "execution_count": null,
      "outputs": [
        {
          "output_type": "execute_result",
          "data": {
            "text/plain": [
              "array([3, 4, 5])"
            ]
          },
          "metadata": {},
          "execution_count": 67
        }
      ]
    },
    {
      "cell_type": "code",
      "source": [
        "lst = [4,5,6,7]\n",
        "lst * 2"
      ],
      "metadata": {
        "colab": {
          "base_uri": "https://localhost:8080/"
        },
        "id": "9NqCNSw7lz7k",
        "outputId": "3fc0defe-1016-4971-cb97-877934c1b93d"
      },
      "execution_count": null,
      "outputs": [
        {
          "output_type": "execute_result",
          "data": {
            "text/plain": [
              "[4, 5, 6, 7, 4, 5, 6, 7]"
            ]
          },
          "metadata": {},
          "execution_count": 68
        }
      ]
    },
    {
      "cell_type": "code",
      "source": [
        "arr = np.array([4,5,6,7])\n",
        "arr * 2"
      ],
      "metadata": {
        "colab": {
          "base_uri": "https://localhost:8080/"
        },
        "id": "G7Wvg4O3m0gp",
        "outputId": "3120458a-f5a8-48bd-d6c7-99da448535ab"
      },
      "execution_count": null,
      "outputs": [
        {
          "output_type": "execute_result",
          "data": {
            "text/plain": [
              "array([ 8, 10, 12, 14])"
            ]
          },
          "metadata": {},
          "execution_count": 69
        }
      ]
    },
    {
      "cell_type": "code",
      "source": [
        "np.arange(4\n",
        "          )"
      ],
      "metadata": {
        "id": "2-bjbuwFrNoE"
      },
      "execution_count": null,
      "outputs": []
    },
    {
      "cell_type": "code",
      "source": [
        "np.linspace(1,10,7)\n"
      ],
      "metadata": {
        "colab": {
          "base_uri": "https://localhost:8080/"
        },
        "id": "s_GTlbxvsMFS",
        "outputId": "d4be3e0e-d60f-46c3-eaa7-1aae6a03d5f8"
      },
      "execution_count": null,
      "outputs": [
        {
          "output_type": "execute_result",
          "data": {
            "text/plain": [
              "array([ 1. ,  2.5,  4. ,  5.5,  7. ,  8.5, 10. ])"
            ]
          },
          "metadata": {},
          "execution_count": 71
        }
      ]
    },
    {
      "cell_type": "code",
      "source": [
        "x = np.ones(2, dtype=np.int64)\n",
        "x"
      ],
      "metadata": {
        "colab": {
          "base_uri": "https://localhost:8080/"
        },
        "id": "XgasaoDYsbjt",
        "outputId": "45412e63-7350-4a1d-d3a7-817670e45ea4"
      },
      "execution_count": null,
      "outputs": [
        {
          "output_type": "execute_result",
          "data": {
            "text/plain": [
              "array([1, 1])"
            ]
          },
          "metadata": {},
          "execution_count": 73
        }
      ]
    },
    {
      "cell_type": "code",
      "source": [
        "arr = np.array([9,23,2,3,4,5,67])\n",
        "np.sort(arr)"
      ],
      "metadata": {
        "colab": {
          "base_uri": "https://localhost:8080/"
        },
        "id": "bwTDTwxLzC4k",
        "outputId": "8eff2865-bba0-4caf-ba39-48576eabefed"
      },
      "execution_count": null,
      "outputs": [
        {
          "output_type": "execute_result",
          "data": {
            "text/plain": [
              "array([ 2,  3,  4,  5,  9, 23, 67])"
            ]
          },
          "metadata": {},
          "execution_count": 76
        }
      ]
    },
    {
      "cell_type": "code",
      "source": [
        "a = np.array([1,2,3,4])\n",
        "b = np.array([5,6,7,8])\n",
        "np.concatenate((a,b))"
      ],
      "metadata": {
        "colab": {
          "base_uri": "https://localhost:8080/"
        },
        "id": "m1oSE7P8z8I0",
        "outputId": "51299d30-c981-49b3-aa36-f22b993e2a62"
      },
      "execution_count": null,
      "outputs": [
        {
          "output_type": "execute_result",
          "data": {
            "text/plain": [
              "array([1, 2, 3, 4, 5, 6, 7, 8])"
            ]
          },
          "metadata": {},
          "execution_count": 77
        }
      ]
    },
    {
      "cell_type": "code",
      "source": [
        "a = np.array([[[4,6,5],[2,3,4],[7,9,0]]])\n",
        "\n",
        "a.shape"
      ],
      "metadata": {
        "colab": {
          "base_uri": "https://localhost:8080/"
        },
        "id": "H41ZsTg44VfY",
        "outputId": "21c30a9e-959e-42e7-d115-8eec55fe16f9"
      },
      "execution_count": null,
      "outputs": [
        {
          "output_type": "execute_result",
          "data": {
            "text/plain": [
              "(1, 3, 3)"
            ]
          },
          "metadata": {},
          "execution_count": 79
        }
      ]
    },
    {
      "cell_type": "code",
      "source": [
        "a = np.arange(24).reshape(1,4,-1)\n",
        "print(a.shape)"
      ],
      "metadata": {
        "colab": {
          "base_uri": "https://localhost:8080/"
        },
        "id": "wUQVikXj4uM9",
        "outputId": "c0383ffc-9e3a-47e2-b28a-fb1ca7a32553"
      },
      "execution_count": null,
      "outputs": [
        {
          "output_type": "stream",
          "name": "stdout",
          "text": [
            "(1, 4, 6)\n"
          ]
        }
      ]
    },
    {
      "cell_type": "code",
      "source": [
        "# add new axis = np.axis"
      ],
      "metadata": {
        "id": "F_c9238r7DQ3"
      },
      "execution_count": null,
      "outputs": []
    },
    {
      "cell_type": "code",
      "source": [
        "a = np.array([1,2,3,4,5,6])\n",
        "print(a.shape)"
      ],
      "metadata": {
        "colab": {
          "base_uri": "https://localhost:8080/"
        },
        "id": "veHdil_D7obn",
        "outputId": "df53e7f2-35d2-4df6-9dea-44f14954fa07"
      },
      "execution_count": null,
      "outputs": [
        {
          "output_type": "stream",
          "name": "stdout",
          "text": [
            "(6,)\n"
          ]
        }
      ]
    },
    {
      "cell_type": "code",
      "source": [
        "a2 = a[: ,np.newaxis]\n",
        "print(a2.shape)"
      ],
      "metadata": {
        "colab": {
          "base_uri": "https://localhost:8080/"
        },
        "id": "z9QnznIC7Nyh",
        "outputId": "181d15e3-48f5-48dc-80de-d88d3813a2d9"
      },
      "execution_count": null,
      "outputs": [
        {
          "output_type": "stream",
          "name": "stdout",
          "text": [
            "(6, 1)\n"
          ]
        }
      ]
    },
    {
      "cell_type": "code",
      "source": [
        "b = np.expand_dims(a, axis=1)\n",
        "print(b.shape)"
      ],
      "metadata": {
        "colab": {
          "base_uri": "https://localhost:8080/"
        },
        "id": "-a0N7IWL7x-4",
        "outputId": "e65efd56-7757-4941-e861-41c0e5dd42af"
      },
      "execution_count": null,
      "outputs": [
        {
          "output_type": "stream",
          "name": "stdout",
          "text": [
            "(6, 1)\n"
          ]
        }
      ]
    },
    {
      "cell_type": "code",
      "source": [
        "a = np.array([[1,2,3,4,5,6],[2,6,8,99,4,5],[33,5,44,33,22,22]])\n",
        "print(a.shape)"
      ],
      "metadata": {
        "colab": {
          "base_uri": "https://localhost:8080/"
        },
        "id": "5yw3e61l9u2N",
        "outputId": "3433de45-2e02-4cff-b88e-0da17a1d72b7"
      },
      "execution_count": null,
      "outputs": [
        {
          "output_type": "stream",
          "name": "stdout",
          "text": [
            "(3, 6)\n"
          ]
        }
      ]
    },
    {
      "cell_type": "code",
      "source": [
        "b = a[a > 5]\n",
        "print(b)"
      ],
      "metadata": {
        "colab": {
          "base_uri": "https://localhost:8080/"
        },
        "id": "6Zudq8cI-N1p",
        "outputId": "cd7ccf9b-b3b4-4cc0-e21e-6d5b9c212311"
      },
      "execution_count": null,
      "outputs": [
        {
          "output_type": "stream",
          "name": "stdout",
          "text": [
            "[ 6  6  8 99 33 44 33 22 22]\n"
          ]
        }
      ]
    },
    {
      "cell_type": "code",
      "source": [
        "c = a[(a > 5) & (a < 20)]\n",
        "print(c)\n"
      ],
      "metadata": {
        "colab": {
          "base_uri": "https://localhost:8080/"
        },
        "id": "ZVQzC6Es-UW0",
        "outputId": "97ade317-c79b-4b5c-9494-681c33818a26"
      },
      "execution_count": null,
      "outputs": [
        {
          "output_type": "stream",
          "name": "stdout",
          "text": [
            "[6 6 8]\n"
          ]
        }
      ]
    },
    {
      "cell_type": "code",
      "source": [
        "d = (a > 88) | (a < 20)\n",
        "print(d)"
      ],
      "metadata": {
        "colab": {
          "base_uri": "https://localhost:8080/"
        },
        "id": "DrntEq0h-kmH",
        "outputId": "4d682859-16c3-4a21-a87a-99ca648a24d6"
      },
      "execution_count": null,
      "outputs": [
        {
          "output_type": "stream",
          "name": "stdout",
          "text": [
            "[[ True  True  True  True  True  True]\n",
            " [ True  True  True  True  True  True]\n",
            " [False  True False False False False]]\n"
          ]
        }
      ]
    },
    {
      "cell_type": "code",
      "source": [
        "a1 = np.array([[1, 1],\n",
        "               [2, 2]])\n",
        "\n",
        "a2 = np.array([[3, 3],\n",
        "               [4, 4]])"
      ],
      "metadata": {
        "id": "UmTQyk4eBtR0"
      },
      "execution_count": null,
      "outputs": []
    },
    {
      "cell_type": "code",
      "source": [
        "arr_2d = np.array([[1, 2, 3, 4], [5, 6, 7, 8], [9, 10, 11, 12]])\n",
        "reversed_arr_columns = np.flip(arr_2d, axis=1)\n",
        "print(reversed_arr_columns)"
      ],
      "metadata": {
        "colab": {
          "base_uri": "https://localhost:8080/"
        },
        "id": "WW8M8lV0Bwn1",
        "outputId": "4029d83b-d42b-4d9e-d148-c2f9c0f965ee"
      },
      "execution_count": null,
      "outputs": [
        {
          "output_type": "stream",
          "name": "stdout",
          "text": [
            "[[ 4  3  2  1]\n",
            " [ 8  7  6  5]\n",
            " [12 11 10  9]]\n"
          ]
        }
      ]
    },
    {
      "cell_type": "code",
      "source": [
        "# Original vector\n",
        "vector = [1, 2, 3, 4, 5]\n",
        "\n",
        "# Reversed vector using slicing\n",
        "reversed_vector = vector[::-1]\n",
        "\n",
        "print(reversed_vector)\n"
      ],
      "metadata": {
        "colab": {
          "base_uri": "https://localhost:8080/"
        },
        "id": "Z4ExkeEXXJ_0",
        "outputId": "95dfe067-6d98-42c8-e4b5-d88843ecf214"
      },
      "execution_count": null,
      "outputs": [
        {
          "output_type": "stream",
          "name": "stdout",
          "text": [
            "[5, 4, 3, 2, 1]\n"
          ]
        }
      ]
    },
    {
      "cell_type": "code",
      "source": [
        "import numpy as np\n",
        "\n",
        "# Create a 3x3 matrix with values from 0 to 8\n",
        "matrix = np.arange(9).reshape(3, 3)\n",
        "\n",
        "print(matrix)\n"
      ],
      "metadata": {
        "colab": {
          "base_uri": "https://localhost:8080/"
        },
        "id": "_JKuAhhuYTf0",
        "outputId": "a5f771fa-a212-4579-d682-636f0a7feb9c"
      },
      "execution_count": null,
      "outputs": [
        {
          "output_type": "stream",
          "name": "stdout",
          "text": [
            "[[0 1 2]\n",
            " [3 4 5]\n",
            " [6 7 8]]\n"
          ]
        }
      ]
    },
    {
      "cell_type": "code",
      "source": [
        "# prompt: create 2d array with 1 on border inside 0\n",
        "\n",
        "import numpy as np\n",
        "\n",
        "def border_array(rows, cols):\n",
        "  \"\"\"Creates a 2D array with 1s on the border and 0s inside.\n",
        "\n",
        "  Args:\n",
        "    rows: The number of rows in the array.\n",
        "    cols: The number of columns in the array.\n",
        "\n",
        "  Returns:\n",
        "    A NumPy array with the specified pattern.\n",
        "  \"\"\"\n",
        "\n",
        "  arr = np.zeros((rows, cols), dtype=int)  # Initialize with zeros\n",
        "  arr[0, :] = 1  # Top row\n",
        "  arr[-1, :] = 1  # Bottom row\n",
        "  arr[:, 0] = 1  # Left column\n",
        "  arr[:, -1] = 1  # Right column\n",
        "  return arr\n",
        "\n",
        "# Example usage:\n",
        "rows = 5\n",
        "cols = 5\n",
        "result = border_array(rows, cols)\n",
        "print(result)\n"
      ],
      "metadata": {
        "colab": {
          "base_uri": "https://localhost:8080/"
        },
        "id": "EB0IWiRDZSEJ",
        "outputId": "f11e72ac-ec2b-4179-f7f0-997332ddf16a"
      },
      "execution_count": null,
      "outputs": [
        {
          "output_type": "stream",
          "name": "stdout",
          "text": [
            "[[1 1 1 1 1]\n",
            " [1 0 0 0 1]\n",
            " [1 0 0 0 1]\n",
            " [1 0 0 0 1]\n",
            " [1 1 1 1 1]]\n"
          ]
        }
      ]
    },
    {
      "cell_type": "code",
      "source": [
        "# prompt: chess pattern black = 1and white=0\n",
        "\n",
        "import numpy as np\n",
        "\n",
        "def chess_pattern(rows, cols):\n",
        "  \"\"\"Creates a chessboard pattern with 1s for black and 0s for white.\n",
        "\n",
        "  Args:\n",
        "    rows: The number of rows in the chessboard.\n",
        "    cols: The number of columns in the chessboard.\n",
        "\n",
        "  Returns:\n",
        "    A NumPy array representing the chessboard pattern.\n",
        "  \"\"\"\n",
        "\n",
        "  chessboard = np.zeros((rows, cols), dtype=int)\n",
        "  chessboard[::2, ::2] = 1  # Set every other square to 1, starting from top-left\n",
        "  chessboard[1::2, 1::2] = 1  # Set every other square to 1, starting from second row, second column\n",
        "  return chessboard\n",
        "\n",
        "# Example usage:\n",
        "rows = 8\n",
        "cols = 8\n",
        "result = chess_pattern(rows, cols)\n",
        "print(result)\n"
      ],
      "metadata": {
        "colab": {
          "base_uri": "https://localhost:8080/"
        },
        "id": "PcJ5oaxXcBV4",
        "outputId": "56704ca7-11eb-4d91-cd6a-1f0d64297bac"
      },
      "execution_count": null,
      "outputs": [
        {
          "output_type": "stream",
          "name": "stdout",
          "text": [
            "[[1 0 1 0 1 0 1 0]\n",
            " [0 1 0 1 0 1 0 1]\n",
            " [1 0 1 0 1 0 1 0]\n",
            " [0 1 0 1 0 1 0 1]\n",
            " [1 0 1 0 1 0 1 0]\n",
            " [0 1 0 1 0 1 0 1]\n",
            " [1 0 1 0 1 0 1 0]\n",
            " [0 1 0 1 0 1 0 1]]\n"
          ]
        }
      ]
    },
    {
      "cell_type": "code",
      "source": [
        "z = np.diag(1+np.arange(4),k=-1)\n",
        "print(z)"
      ],
      "metadata": {
        "colab": {
          "base_uri": "https://localhost:8080/"
        },
        "id": "sifgL-4vinRT",
        "outputId": "f266f1a7-99b7-4be7-c6d1-67ebf582c7f7"
      },
      "execution_count": null,
      "outputs": [
        {
          "output_type": "stream",
          "name": "stdout",
          "text": [
            "[[0 0 0 0 0]\n",
            " [1 0 0 0 0]\n",
            " [0 2 0 0 0]\n",
            " [0 0 3 0 0]\n",
            " [0 0 0 4 0]]\n"
          ]
        }
      ]
    },
    {
      "cell_type": "markdown",
      "source": [
        "="
      ],
      "metadata": {
        "id": "RiGTb-OB7LJ-"
      }
    },
    {
      "cell_type": "code",
      "source": [
        "print(np.unravel_index(99,(6,7,8)))"
      ],
      "metadata": {
        "colab": {
          "base_uri": "https://localhost:8080/"
        },
        "id": "K2inBv7aklbN",
        "outputId": "e1e00f25-de70-46b3-aad8-dce36e9c9478"
      },
      "execution_count": null,
      "outputs": [
        {
          "output_type": "stream",
          "name": "stdout",
          "text": [
            "(1, 5, 3)\n"
          ]
        }
      ]
    },
    {
      "cell_type": "code",
      "source": [
        "a = np.arange(336).reshape(6,7,8)\n",
        "a"
      ],
      "metadata": {
        "colab": {
          "base_uri": "https://localhost:8080/"
        },
        "id": "neDiVJ1WkunE",
        "outputId": "6b7f6243-6740-44c1-e348-32ce8f2e1b5c"
      },
      "execution_count": null,
      "outputs": [
        {
          "output_type": "execute_result",
          "data": {
            "text/plain": [
              "array([[[  0,   1,   2,   3,   4,   5,   6,   7],\n",
              "        [  8,   9,  10,  11,  12,  13,  14,  15],\n",
              "        [ 16,  17,  18,  19,  20,  21,  22,  23],\n",
              "        [ 24,  25,  26,  27,  28,  29,  30,  31],\n",
              "        [ 32,  33,  34,  35,  36,  37,  38,  39],\n",
              "        [ 40,  41,  42,  43,  44,  45,  46,  47],\n",
              "        [ 48,  49,  50,  51,  52,  53,  54,  55]],\n",
              "\n",
              "       [[ 56,  57,  58,  59,  60,  61,  62,  63],\n",
              "        [ 64,  65,  66,  67,  68,  69,  70,  71],\n",
              "        [ 72,  73,  74,  75,  76,  77,  78,  79],\n",
              "        [ 80,  81,  82,  83,  84,  85,  86,  87],\n",
              "        [ 88,  89,  90,  91,  92,  93,  94,  95],\n",
              "        [ 96,  97,  98,  99, 100, 101, 102, 103],\n",
              "        [104, 105, 106, 107, 108, 109, 110, 111]],\n",
              "\n",
              "       [[112, 113, 114, 115, 116, 117, 118, 119],\n",
              "        [120, 121, 122, 123, 124, 125, 126, 127],\n",
              "        [128, 129, 130, 131, 132, 133, 134, 135],\n",
              "        [136, 137, 138, 139, 140, 141, 142, 143],\n",
              "        [144, 145, 146, 147, 148, 149, 150, 151],\n",
              "        [152, 153, 154, 155, 156, 157, 158, 159],\n",
              "        [160, 161, 162, 163, 164, 165, 166, 167]],\n",
              "\n",
              "       [[168, 169, 170, 171, 172, 173, 174, 175],\n",
              "        [176, 177, 178, 179, 180, 181, 182, 183],\n",
              "        [184, 185, 186, 187, 188, 189, 190, 191],\n",
              "        [192, 193, 194, 195, 196, 197, 198, 199],\n",
              "        [200, 201, 202, 203, 204, 205, 206, 207],\n",
              "        [208, 209, 210, 211, 212, 213, 214, 215],\n",
              "        [216, 217, 218, 219, 220, 221, 222, 223]],\n",
              "\n",
              "       [[224, 225, 226, 227, 228, 229, 230, 231],\n",
              "        [232, 233, 234, 235, 236, 237, 238, 239],\n",
              "        [240, 241, 242, 243, 244, 245, 246, 247],\n",
              "        [248, 249, 250, 251, 252, 253, 254, 255],\n",
              "        [256, 257, 258, 259, 260, 261, 262, 263],\n",
              "        [264, 265, 266, 267, 268, 269, 270, 271],\n",
              "        [272, 273, 274, 275, 276, 277, 278, 279]],\n",
              "\n",
              "       [[280, 281, 282, 283, 284, 285, 286, 287],\n",
              "        [288, 289, 290, 291, 292, 293, 294, 295],\n",
              "        [296, 297, 298, 299, 300, 301, 302, 303],\n",
              "        [304, 305, 306, 307, 308, 309, 310, 311],\n",
              "        [312, 313, 314, 315, 316, 317, 318, 319],\n",
              "        [320, 321, 322, 323, 324, 325, 326, 327],\n",
              "        [328, 329, 330, 331, 332, 333, 334, 335]]])"
            ]
          },
          "metadata": {},
          "execution_count": 135
        }
      ]
    }
  ]
}