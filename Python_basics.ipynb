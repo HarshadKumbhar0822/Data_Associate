{
  "cells": [
    {
      "cell_type": "markdown",
      "metadata": {
        "id": "view-in-github",
        "colab_type": "text"
      },
      "source": [
        "<a href=\"https://colab.research.google.com/github/HarshadKumbhar0822/Data_Associate/blob/main/Python_basics.ipynb\" target=\"_parent\"><img src=\"https://colab.research.google.com/assets/colab-badge.svg\" alt=\"Open In Colab\"/></a>"
      ]
    },
    {
      "cell_type": "code",
      "execution_count": 23,
      "metadata": {
        "id": "ip0Fk_spShaV"
      },
      "outputs": [],
      "source": [
        "L = [1,2,3]\n",
        "L.append(2)"
      ]
    },
    {
      "cell_type": "code",
      "execution_count": 24,
      "metadata": {
        "colab": {
          "base_uri": "https://localhost:8080/",
          "height": 36
        },
        "id": "wdYMD9leTB9M",
        "outputId": "fdedd351-efed-4bb4-ea7d-bca362128ab0"
      },
      "outputs": [
        {
          "output_type": "execute_result",
          "data": {
            "text/plain": [
              "'HELLO'"
            ],
            "application/vnd.google.colaboratory.intrinsic+json": {
              "type": "string"
            }
          },
          "metadata": {},
          "execution_count": 24
        }
      ],
      "source": [
        "s = \"hello\"\n",
        "s.capitalize()\n",
        "\n",
        "s.upper()"
      ]
    },
    {
      "cell_type": "code",
      "execution_count": 25,
      "metadata": {
        "colab": {
          "base_uri": "https://localhost:8080/"
        },
        "id": "Sb3blmfGTj1H",
        "outputId": "b138150c-5bfc-4eed-9f9d-2302c23b556a"
      },
      "outputs": [
        {
          "output_type": "stream",
          "name": "stdout",
          "text": [
            "<class 'list'>\n"
          ]
        }
      ],
      "source": [
        "l1 = list()\n",
        "print(type(l1))"
      ]
    },
    {
      "cell_type": "markdown",
      "metadata": {
        "id": "k57En9aqXK4W"
      },
      "source": []
    },
    {
      "cell_type": "markdown",
      "metadata": {
        "id": "WXLnWUUuVfZr"
      },
      "source": [
        "**Classes AND OBJECT**\n",
        "1.Class is a blueprint of objects and they are ge nreic and conceptual.\n",
        "2.object is implimentation or instance of a class they are specific and actual .it is manifestation of class\n",
        "3.objet is a pysicall intity.\n",
        "\n",
        "** class consist of data members and member methods.\n",
        "\n",
        "**Data members ** physical proprty or physical attribute\n",
        "\n",
        "** member method - it is behaviour or function of class. it is reprsents the action of class.\n",
        "\n",
        "** the funtion which is presents inside a class is khnown as method.The function which is outside a class is function only.\n"
      ]
    },
    {
      "cell_type": "markdown",
      "metadata": {
        "id": "sbRgWBbmT4cM"
      },
      "source": [
        "**bold text**"
      ]
    },
    {
      "cell_type": "code",
      "execution_count": 25,
      "metadata": {
        "id": "cX8aK718XOGI"
      },
      "outputs": [],
      "source": []
    },
    {
      "cell_type": "markdown",
      "metadata": {
        "id": "rx8568D9XOfb"
      },
      "source": [
        "## To Represnt real world in programming we need OOP's\n",
        "\n",
        "** Concept of the oops (A-pie)\n",
        "\n",
        "Polymorphism--The word polymorphism means many form and in programming it refers to method or functions or oprators with the same name that can be exucated on many objects/classes.\n",
        "\n",
        "Polymorphism occurs in programing by method overriding and method overloading.\n",
        "\n",
        "Overriding- It is ability of oops leng that alllows a subclass or child class provide a specific of a method that alredy provided by one of its superclass or parent class.\n",
        "\n",
        "overloading- when a class have multiple methds by same name but with diffrent parameters is khown as method overloading.\n"
      ]
    },
    {
      "cell_type": "code",
      "execution_count": 25,
      "metadata": {
        "id": "9izOnYq_ckHC"
      },
      "outputs": [],
      "source": []
    },
    {
      "cell_type": "markdown",
      "metadata": {
        "id": "MTdZRGXNciw9"
      },
      "source": [
        "Inheritance\n",
        "\n",
        "it is mechanism of derivoing a class from an old class such that the new class inherit all th emember of old class called inheritance or derivation\n",
        "\n",
        "Types of inheritance:-\n",
        "1.Single Inheritance:- Class derived from single class\n",
        "\n",
        "2.Multiple Inheritnance:- it derived from multiple classes.\n",
        "\n",
        "3.Multilvl Inheritance:-class inherits feactures from another derived class.\n",
        "\n",
        "4.Hirarachycal Inheritance:-derived multiple class from single parent class.\n",
        "\n",
        "5.Hybrid Inheritance:-combination of multiple type of inheritance\n"
      ]
    },
    {
      "cell_type": "markdown",
      "metadata": {
        "id": "qL5lYbKTeLdx"
      },
      "source": [
        "**Abstaction**\n",
        "\n",
        "It refers to the concepts of hiding complex implementation details and exposing only the essential feactures of an object  or system.\n",
        "\n",
        "it is achive using access modifire i.e private,public,protected and default and interfaced also use to achive abstraction.\n",
        "\n",
        "** Encapsulation **\n",
        "it promots bundling of data into a single unit khown as class\n",
        "it allows for controling the access to the data preventing accidental modification and isuring the internal state of an object remain consistent.\n"
      ]
    },
    {
      "cell_type": "code",
      "execution_count": 25,
      "metadata": {
        "id": "Ql9NNXYQgyhd"
      },
      "outputs": [],
      "source": []
    },
    {
      "cell_type": "code",
      "execution_count": 26,
      "metadata": {
        "id": "d0wY8Clngy-g"
      },
      "outputs": [],
      "source": [
        "class a:\n",
        "  pass   #pass makes a class valid class withoout data members or member method.\n",
        "  # here 'a' is class\n",
        "  # a is a user defined data type.\n"
      ]
    },
    {
      "cell_type": "code",
      "execution_count": 27,
      "metadata": {
        "id": "ARBmkZTfhqmS"
      },
      "outputs": [],
      "source": [
        "# create a programme for tution\n",
        "# class name must start with capital letter as nominclature\n",
        "class Lerner:\n",
        "  pass\n",
        "\n",
        "class Trainer:\n",
        "  pass\n",
        "\n",
        "class Courses:\n",
        "  pass"
      ]
    },
    {
      "cell_type": "code",
      "execution_count": 28,
      "metadata": {
        "id": "ilDbvCTDiYBx"
      },
      "outputs": [],
      "source": [
        "class Lerner():\n",
        "  # parathensis '()' are optional and it used at the inheritance\n",
        "  # data members\n",
        "  name = \"\"\n",
        "  email = \"\"\n",
        "  mobile_no = \"\"\n",
        "\n",
        "class Trainer():\n",
        "  name = \"\"\n",
        "  email = \"\"\n",
        "  mobile_no = \"\"\n",
        "  course = \"\"\n",
        "\n",
        "class Courses():\n",
        "  course_name = \"\"\n",
        "  course_fee = \"\"\n",
        "  course_duration = \"\""
      ]
    },
    {
      "cell_type": "code",
      "execution_count": 29,
      "metadata": {
        "id": "RUAlJ0bcuzQR"
      },
      "outputs": [],
      "source": [
        "# lets create objects\n",
        "ramesh = Lerner()\n",
        "ram = Trainer()\n",
        "DA = Courses()\n"
      ]
    },
    {
      "cell_type": "code",
      "execution_count": 30,
      "metadata": {
        "id": "b9-EPDnyvBnP"
      },
      "outputs": [],
      "source": [
        "# initialising the values to data members.\n",
        "ramesh.name = \"ramesh Chote\"\n",
        "ramesh.email = \"ramesh@gmail.com\"\n",
        "ramesh.mobile_no = 9876543219\n",
        "\n",
        "ram.name = \"ram Gote\"\n",
        "ram.email = \"ram@gmail.com\"\n",
        "ram.mobile_no = 9876543777\n",
        "ram.course = \"DA\"\n",
        "\n",
        "DA.course_name = \"Data Analysis\"\n",
        "DA.course_fee = 10000\n",
        "DA.course_duration = 3"
      ]
    },
    {
      "cell_type": "code",
      "execution_count": 31,
      "metadata": {
        "colab": {
          "base_uri": "https://localhost:8080/"
        },
        "id": "QelPQNd5wIaB",
        "outputId": "138029f0-d5f8-45b5-a509-a8abbae1da8f"
      },
      "outputs": [
        {
          "output_type": "stream",
          "name": "stdout",
          "text": [
            "ramesh Chote ramesh@gmail.com 9876543219\n",
            "ram Gote ram@gmail.com 9876543777 DA\n",
            "Data Analysis 10000 3\n"
          ]
        }
      ],
      "source": [
        "#accesing  data members using object\n",
        "print(ramesh.name,ramesh.email,ramesh.mobile_no)\n",
        "print(ram.name,ram.email,ram.mobile_no,ram.course)\n",
        "print(DA.course_name,DA.course_fee,DA.course_duration)\n"
      ]
    },
    {
      "cell_type": "code",
      "execution_count": 32,
      "metadata": {
        "id": "tmzCCsIXxOe0"
      },
      "outputs": [],
      "source": [
        "class Learner():\n",
        "  name = \"\"\n",
        "  email = \"\"\n",
        "  mobile_no = \"\"\n",
        "\n",
        "  def __init__(self,name,email): # self id basicaly an object\n",
        "    # __init__ is a special type of member method which is a constructor.\n",
        "    # construtor is exicuted at the time of object creation to give and also to give default values.\n",
        "    self.name = name\n",
        "    self.email = email\n",
        "    self.mobile_no = 9876543211\n",
        "    print(\"hiii hg\")\n",
        "\n",
        "    def get_details():\n",
        "      print(f\"name:{self.name} \\nemail:{self.email} \\nmobile_no:{self.mobile_no}\")\n",
        "\n"
      ]
    },
    {
      "cell_type": "code",
      "execution_count": 32,
      "metadata": {
        "id": "HLrQZ1jT1lYT"
      },
      "outputs": [],
      "source": []
    },
    {
      "cell_type": "code",
      "execution_count": 33,
      "metadata": {
        "colab": {
          "base_uri": "https://localhost:8080/"
        },
        "id": "DZkH6W3RyYvE",
        "outputId": "c972614e-5a36-4e1a-8659-c589606f24f2"
      },
      "outputs": [
        {
          "output_type": "stream",
          "name": "stdout",
          "text": [
            "hiii hg\n"
          ]
        }
      ],
      "source": [
        "harshad = Learner(\"harshad\",\"harsh@gmail.com\",\n",
        "                  )"
      ]
    },
    {
      "cell_type": "code",
      "source": [
        "class Ractangle():\n",
        "  def __init__(self,length,breadth):\n",
        "    self.length = length\n",
        "    self.breadth = breadth\n",
        "\n",
        "  def get_details(self):\n",
        "    area =  self.length * self.breadth\n",
        "    print(\"area of rectangle is\" , area)\n",
        "\n",
        "  def set_details(self,length,breadth):\n",
        "    self.length = length\n",
        "    self.breadth = breadth"
      ],
      "metadata": {
        "id": "hF5heMDIBhVu"
      },
      "execution_count": 34,
      "outputs": []
    },
    {
      "cell_type": "code",
      "source": [
        "R1 = Ractangle(10,5)\n",
        "R1.get_details()"
      ],
      "metadata": {
        "colab": {
          "base_uri": "https://localhost:8080/"
        },
        "id": "1XZXSZDkDqJx",
        "outputId": "caf8b588-800a-4ff4-e277-6cb027f64368"
      },
      "execution_count": 35,
      "outputs": [
        {
          "output_type": "stream",
          "name": "stdout",
          "text": [
            "area of rectangle is 50\n"
          ]
        }
      ]
    },
    {
      "cell_type": "code",
      "source": [
        "R1.set_details(20,10)\n",
        "R1.get_details()"
      ],
      "metadata": {
        "colab": {
          "base_uri": "https://localhost:8080/"
        },
        "id": "Prz2W3IvEO5p",
        "outputId": "8221a61a-5b8a-455b-ceb2-1ceb386b05b0"
      },
      "execution_count": 36,
      "outputs": [
        {
          "output_type": "stream",
          "name": "stdout",
          "text": [
            "area of rectangle is 200\n"
          ]
        }
      ]
    },
    {
      "cell_type": "code",
      "source": [
        "# single inheritance\n",
        "\n",
        "class Person():\n",
        "  def __init__(self, name,age,adress):\n",
        "    self.name = name\n",
        "    self.age = age\n",
        "    self.adress = adress\n",
        "\n",
        "  def get_details(self):\n",
        "    print(f\"Name : {self.name} \\nage : {self.age} \\nadress : {self.adress}\" )\n"
      ],
      "metadata": {
        "id": "pxR7_M2pJwHs"
      },
      "execution_count": 37,
      "outputs": []
    },
    {
      "cell_type": "code",
      "source": [
        "class Student(Person):\n",
        "\n",
        "  def __init__(self,roll_no,score,name,age,adress):\n",
        "    self.roll_no = roll_no\n",
        "    self.score = score\n",
        "    Person.__init__(self,name,age,adress)\n",
        "\n",
        "    #if the constructor of student class is getting called then it will called the constructor of parent class by using parent class name.\n",
        "\n",
        "    def get_details(self):\n",
        "      super().get_details()\n",
        "      print(f\"roll_no : {self.roll_no} \\nscore : {self.score}\")\n",
        "\n",
        "s1 = Student(10,\"60\",\"harshad\",21,\"hyderabad\")\n",
        "s1.get_details()\n"
      ],
      "metadata": {
        "colab": {
          "base_uri": "https://localhost:8080/"
        },
        "id": "71lGOZC4Koa8",
        "outputId": "a0ed13d5-6ccf-4650-ff4d-b15aa963cdee"
      },
      "execution_count": 38,
      "outputs": [
        {
          "output_type": "stream",
          "name": "stdout",
          "text": [
            "Name : harshad \n",
            "age : 21 \n",
            "adress : hyderabad\n"
          ]
        }
      ]
    },
    {
      "cell_type": "code",
      "source": [],
      "metadata": {
        "id": "U6jHuw6MQt0M"
      },
      "execution_count": 38,
      "outputs": []
    }
  ],
  "metadata": {
    "colab": {
      "provenance": [],
      "authorship_tag": "ABX9TyO2t9n7zItT37uIlokqmNU0",
      "include_colab_link": true
    },
    "kernelspec": {
      "display_name": "Python 3",
      "name": "python3"
    },
    "language_info": {
      "name": "python"
    }
  },
  "nbformat": 4,
  "nbformat_minor": 0
}