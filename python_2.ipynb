{
  "nbformat": 4,
  "nbformat_minor": 0,
  "metadata": {
    "colab": {
      "provenance": [],
      "authorship_tag": "ABX9TyMBkwuewIgczrhbPt3KYUg9",
      "include_colab_link": true
    },
    "kernelspec": {
      "name": "python3",
      "display_name": "Python 3"
    },
    "language_info": {
      "name": "python"
    }
  },
  "cells": [
    {
      "cell_type": "markdown",
      "metadata": {
        "id": "view-in-github",
        "colab_type": "text"
      },
      "source": [
        "<a href=\"https://colab.research.google.com/github/HarshadKumbhar0822/Data_Associate/blob/main/python_2.ipynb\" target=\"_parent\"><img src=\"https://colab.research.google.com/assets/colab-badge.svg\" alt=\"Open In Colab\"/></a>"
      ]
    },
    {
      "cell_type": "code",
      "execution_count": null,
      "metadata": {
        "colab": {
          "base_uri": "https://localhost:8080/"
        },
        "id": "19EPV4n7eFnI",
        "outputId": "fa4e7ca3-0efe-4d16-b9f9-3d77a47d2502"
      },
      "outputs": [
        {
          "output_type": "stream",
          "name": "stdout",
          "text": [
            "enter the number of units: 210\n",
            "600 is your bill\n"
          ]
        }
      ],
      "source": [
        "#electricity bill calculator\n",
        "#starting 100 un its free\n",
        "#after 100 and below 200 --5 p.u.\n",
        "# above 200 ---10 p.u.\n",
        "\n",
        "units = int(input(\"enter the number of units: \"))\n",
        "if units <= 100:\n",
        "    print(\"Bill is free\")\n",
        "elif units > 100 and units <= 200:\n",
        "    print((units - 100)*5,'is your bill')\n",
        "else:\n",
        "    print((units - 200)*10 + 500,'is your bill')"
      ]
    },
    {
      "cell_type": "code",
      "source": [
        "#nested if\n",
        "#electricity bill calculator\n",
        "#starting 100 un its free\n",
        "#after 100 and below 200 --5 p.u.\n",
        "# above 200 ---10 p.u.\n",
        "\n",
        "units = int(input(\"enter the number of units: \"))\n",
        "if units >200:\n",
        "    print((units - 100)*10 + 500,\"bill is\")\n",
        "    if units > 100 and units <= 200:\n",
        "       print((units - 100)*5,\"your bill is\")\n",
        "       if units <= 100:\n",
        "        print(\"free\")\n",
        "\n"
      ],
      "metadata": {
        "colab": {
          "base_uri": "https://localhost:8080/"
        },
        "id": "FznCiJcrjWuQ",
        "outputId": "3fa2aee5-3bae-415f-d46a-c9229095085b"
      },
      "execution_count": null,
      "outputs": [
        {
          "name": "stdout",
          "output_type": "stream",
          "text": [
            "enter the number of units: 101\n"
          ]
        }
      ]
    },
    {
      "cell_type": "code",
      "source": [
        "\n",
        "age = int(input(\"Enter the age: \"))\n",
        "if age >= 18:\n",
        "  print(\"Eligible to vote\")\n",
        "else:\n",
        "  print(\"Not eligible to vote\")\n"
      ],
      "metadata": {
        "id": "i1UWdUnemsrW"
      },
      "execution_count": null,
      "outputs": []
    },
    {
      "cell_type": "code",
      "source": [
        "\n",
        "\n",
        "num = int(input(\"Enter a number: \"))\n",
        "if (num % 2) == 0:\n",
        "   print(\" is Even\")\n",
        "else:\n",
        "   print(\" is Odd\")\n"
      ],
      "metadata": {
        "colab": {
          "base_uri": "https://localhost:8080/"
        },
        "id": "g3m64p5mnFKx",
        "outputId": "fc4aa2f8-d981-4956-c0c8-59bf8304e871"
      },
      "execution_count": null,
      "outputs": [
        {
          "output_type": "stream",
          "name": "stdout",
          "text": [
            "Enter a number: 11\n",
            " is Odd\n"
          ]
        }
      ]
    },
    {
      "cell_type": "code",
      "source": [
        "\n",
        "num = int(input(\"Enter a number: \"))\n",
        "if (num % 7) == 0:\n",
        "   print(num,\"is divisible by 7\")\n",
        "else:\n",
        "   print(num,\"is not divisible by 7\")\n"
      ],
      "metadata": {
        "colab": {
          "base_uri": "https://localhost:8080/"
        },
        "id": "ljROSYJonms6",
        "outputId": "5ad79da8-0074-4b55-d487-d9c04b0fc62f"
      },
      "execution_count": null,
      "outputs": [
        {
          "output_type": "stream",
          "name": "stdout",
          "text": [
            "Enter a number: 7\n",
            "7 is divisible by 7\n"
          ]
        }
      ]
    },
    {
      "cell_type": "code",
      "source": [
        "# prompt: chek last 2 digit of number\n",
        "\n",
        "num = int(input(\"Enter a number: \"))\n",
        "last_two_digits = num % 100\n",
        "print(\"The last two digits of the number are:\", last_two_digits)\n"
      ],
      "metadata": {
        "colab": {
          "base_uri": "https://localhost:8080/"
        },
        "id": "1jfZQAE8oApN",
        "outputId": "a5311908-0db4-47b1-ddcc-aa39d58bb9e5"
      },
      "execution_count": null,
      "outputs": [
        {
          "output_type": "stream",
          "name": "stdout",
          "text": [
            "Enter a number: 25546\n",
            "The last two digits of the number are: 46\n"
          ]
        }
      ]
    },
    {
      "cell_type": "code",
      "source": [
        "\n",
        "\n",
        "num1 = int(input(\"Enter the first number: \"))\n",
        "num2 = int(input(\"Enter the second number: \"))\n",
        "\n",
        "if num1 > num2:\n",
        "    largest = num1\n",
        "else:\n",
        "    largest = num2\n",
        "\n",
        "print(\"The largest number is:\", largest)\n"
      ],
      "metadata": {
        "colab": {
          "base_uri": "https://localhost:8080/"
        },
        "id": "EnpUtcX1p6sI",
        "outputId": "ee2f96b6-ab06-4fa7-b15b-5dea5ea227f5"
      },
      "execution_count": null,
      "outputs": [
        {
          "output_type": "stream",
          "name": "stdout",
          "text": [
            "Enter the first number: 22\n",
            "Enter the second number: 66\n",
            "The largest number is: 66\n"
          ]
        }
      ]
    },
    {
      "cell_type": "code",
      "source": [
        "\n",
        "\n",
        "char = input(\"Enter a character: \")\n",
        "\n",
        "if char.lower() in 'aeiou':\n",
        "  print(char, \"is a vowel.\")\n",
        "else:\n",
        "  print(char, \"is a consonant.\")\n"
      ],
      "metadata": {
        "colab": {
          "base_uri": "https://localhost:8080/"
        },
        "id": "l2qhVG7qrQXw",
        "outputId": "1c9bd363-eb46-4f20-ce4b-9ebd2ec39b08"
      },
      "execution_count": null,
      "outputs": [
        {
          "output_type": "stream",
          "name": "stdout",
          "text": [
            "Enter a character: uhhgwjd2w\n",
            "uhhgwjd2w is a consonant.\n"
          ]
        }
      ]
    },
    {
      "cell_type": "code",
      "source": [
        "\n",
        "\n",
        "#function\n",
        "\n",
        "def fun():\n",
        "  pass"
      ],
      "metadata": {
        "id": "JY1vfCKKrd9M"
      },
      "execution_count": null,
      "outputs": []
    },
    {
      "cell_type": "code",
      "source": [
        "def laugh():\n",
        "  print(\"hahahaha\")\n",
        "print(\"hehe\")"
      ],
      "metadata": {
        "colab": {
          "base_uri": "https://localhost:8080/"
        },
        "id": "dGSNR1m_0-DC",
        "outputId": "d86cd962-8ad0-4078-8eda-2f5ec3d9c8ff"
      },
      "execution_count": null,
      "outputs": [
        {
          "output_type": "stream",
          "name": "stdout",
          "text": [
            "hehe\n"
          ]
        }
      ]
    },
    {
      "cell_type": "code",
      "source": [
        "laugh()"
      ],
      "metadata": {
        "colab": {
          "base_uri": "https://localhost:8080/"
        },
        "id": "Py5vp8r_1QVB",
        "outputId": "379bfc03-cbe0-4513-9876-3688037406ae"
      },
      "execution_count": null,
      "outputs": [
        {
          "output_type": "stream",
          "name": "stdout",
          "text": [
            "hahahaha\n"
          ]
        }
      ]
    },
    {
      "cell_type": "code",
      "source": [
        "def speed(d,t):\n",
        "  t = t / 60\n",
        "  print(d/t)"
      ],
      "metadata": {
        "id": "AT20NchH1e6U"
      },
      "execution_count": null,
      "outputs": []
    },
    {
      "cell_type": "code",
      "source": [
        "speed(10,20)"
      ],
      "metadata": {
        "colab": {
          "base_uri": "https://localhost:8080/"
        },
        "id": "GhDdFP901xyq",
        "outputId": "f049fc86-2372-454e-da61-342c9c881866"
      },
      "execution_count": null,
      "outputs": [
        {
          "output_type": "stream",
          "name": "stdout",
          "text": [
            "30.0\n"
          ]
        }
      ]
    },
    {
      "cell_type": "code",
      "source": [
        "def area():\n"
      ],
      "metadata": {
        "id": "hs21AMQZ2toF"
      },
      "execution_count": null,
      "outputs": []
    },
    {
      "cell_type": "code",
      "source": [
        "# prompt: avg of vehical\n",
        "\n",
        "def avg_speed(distance, time):\n",
        "\n",
        "  return distance / time\n",
        "\n",
        "\n",
        "distance = float(input(\"Enter the distance traveled in kilometers: \"))\n",
        "time = float(input(\"Enter the time taken in hours: \"))\n",
        "\n",
        "\n",
        "average_speed = avg_speed(distance, time)\n",
        "print(\"The average speed of the vehicle is:\", average_speed, \"km/h\")\n"
      ],
      "metadata": {
        "id": "9VRM4-Lt2zsc"
      },
      "execution_count": null,
      "outputs": []
    },
    {
      "cell_type": "code",
      "source": [
        "lst = [4,5,6,7,8,9]\n",
        "for i in lst:\n",
        "  print(i)"
      ],
      "metadata": {
        "colab": {
          "base_uri": "https://localhost:8080/"
        },
        "id": "laG1-bUu4E5d",
        "outputId": "ee9a6ae7-382f-4969-d6b7-da58803caae7"
      },
      "execution_count": null,
      "outputs": [
        {
          "output_type": "stream",
          "name": "stdout",
          "text": [
            "4\n",
            "5\n",
            "6\n",
            "7\n",
            "8\n",
            "9\n"
          ]
        }
      ]
    },
    {
      "cell_type": "code",
      "source": [
        "age = 12\n",
        "\n",
        "while age < 18:\n",
        "  print('i will not wote',age)\n",
        "  age += 1;\n",
        "\n",
        "else :\n",
        "  print('i will vote beacause my age is',age)\n"
      ],
      "metadata": {
        "colab": {
          "base_uri": "https://localhost:8080/"
        },
        "id": "3uwFlHIJ7oty",
        "outputId": "910fdfe7-c19d-4de1-8c26-602b56e9d9a4"
      },
      "execution_count": null,
      "outputs": [
        {
          "output_type": "stream",
          "name": "stdout",
          "text": [
            "i will not wote 12\n",
            "i will not wote 13\n",
            "i will not wote 14\n",
            "i will not wote 15\n",
            "i will not wote 16\n",
            "i will not wote 17\n",
            "i will vote beacause my age is 18\n"
          ]
        }
      ]
    },
    {
      "cell_type": "code",
      "source": [
        "number = int(input(\"Enter a number: \"))\n",
        "\n",
        "total = 0\n",
        "while number > 0:\n",
        "  total += number\n",
        "  number  = int(input(\"Enter a number: \"))\n",
        "print('the sum is', total)"
      ],
      "metadata": {
        "colab": {
          "base_uri": "https://localhost:8080/"
        },
        "id": "-bexH95pBu4x",
        "outputId": "73e5c3ba-28e9-464e-ff3d-607a85db985d"
      },
      "execution_count": null,
      "outputs": [
        {
          "output_type": "stream",
          "name": "stdout",
          "text": [
            "Enter a number: 78\n",
            "Enter a number: 88\n",
            "Enter a number: 0\n",
            "the sum is 166\n"
          ]
        }
      ]
    },
    {
      "cell_type": "code",
      "source": [],
      "metadata": {
        "colab": {
          "base_uri": "https://localhost:8080/"
        },
        "id": "jLgashPwGSFd",
        "outputId": "ae31bb3d-5614-477e-dcda-ff985e91c9f4"
      },
      "execution_count": null,
      "outputs": [
        {
          "output_type": "stream",
          "name": "stdout",
          "text": [
            "Even numbers in the list: []\n"
          ]
        }
      ]
    },
    {
      "cell_type": "code",
      "source": [
        "numbers = [1, 2, 3, 4, 5, 6, 7, 8, 9, 10]\n",
        "\n",
        "even_numbers = []\n",
        "for i in numbers:\n",
        "  if i % 2 == 0:\n",
        "    even_numbers.append(i)\n",
        "\n",
        "print(\"Even numbers in the list:\", even_numbers)\n"
      ],
      "metadata": {
        "colab": {
          "base_uri": "https://localhost:8080/"
        },
        "id": "b6-YiZqpIBUL",
        "outputId": "3e275ca7-4da1-46a0-a419-923e0abd20f4"
      },
      "execution_count": null,
      "outputs": [
        {
          "output_type": "stream",
          "name": "stdout",
          "text": [
            "Even numbers in the list: [2, 4, 6, 8, 10]\n"
          ]
        }
      ]
    },
    {
      "cell_type": "code",
      "source": [
        "num = int(input(\"Enter a number: \"))\n",
        "\n",
        "for i in range(1, 11):\n",
        "  print(num, \"x\", i, \"=\", num * i)\n"
      ],
      "metadata": {
        "colab": {
          "base_uri": "https://localhost:8080/"
        },
        "id": "lTdBFiOWYnEU",
        "outputId": "46ed0963-101c-4e98-bbd5-521b39631e19"
      },
      "execution_count": null,
      "outputs": [
        {
          "output_type": "stream",
          "name": "stdout",
          "text": [
            "Enter a number: 2\n",
            "2 x 1 = 2\n",
            "2 x 2 = 4\n",
            "2 x 3 = 6\n",
            "2 x 4 = 8\n",
            "2 x 5 = 10\n",
            "2 x 6 = 12\n",
            "2 x 7 = 14\n",
            "2 x 8 = 16\n",
            "2 x 9 = 18\n",
            "2 x 10 = 20\n"
          ]
        }
      ]
    },
    {
      "cell_type": "code",
      "source": [
        "# prompt: using while loop\n",
        "\n",
        "# Assuming the task is to rewrite the for loop using a while loop\n",
        "num = int(input(\"Enter a number: \"))\n",
        "i = 1\n",
        "while i <= 10:\n",
        "  print(num, \"x\", i, \"=\", num * i)\n",
        "  i += 1\n"
      ],
      "metadata": {
        "colab": {
          "base_uri": "https://localhost:8080/"
        },
        "id": "xT4saVtEZhgk",
        "outputId": "19429a39-97f1-4d1a-fc88-a7c04aedd77a"
      },
      "execution_count": null,
      "outputs": [
        {
          "output_type": "stream",
          "name": "stdout",
          "text": [
            "Enter a number: 66778987\n",
            "66778987 x 1 = 66778987\n",
            "66778987 x 2 = 133557974\n",
            "66778987 x 3 = 200336961\n",
            "66778987 x 4 = 267115948\n",
            "66778987 x 5 = 333894935\n",
            "66778987 x 6 = 400673922\n",
            "66778987 x 7 = 467452909\n",
            "66778987 x 8 = 534231896\n",
            "66778987 x 9 = 601010883\n",
            "66778987 x 10 = 667789870\n"
          ]
        }
      ]
    }
  ]
}