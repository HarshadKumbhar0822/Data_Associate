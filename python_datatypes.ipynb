{
  "nbformat": 4,
  "nbformat_minor": 0,
  "metadata": {
    "colab": {
      "provenance": [],
      "authorship_tag": "ABX9TyNF4UjeOD5Qb011KEPBY0Z9",
      "include_colab_link": true
    },
    "kernelspec": {
      "name": "python3",
      "display_name": "Python 3"
    },
    "language_info": {
      "name": "python"
    }
  },
  "cells": [
    {
      "cell_type": "markdown",
      "metadata": {
        "id": "view-in-github",
        "colab_type": "text"
      },
      "source": [
        "<a href=\"https://colab.research.google.com/github/HarshadKumbhar0822/Data_Associate/blob/main/python_datatypes.ipynb\" target=\"_parent\"><img src=\"https://colab.research.google.com/assets/colab-badge.svg\" alt=\"Open In Colab\"/></a>"
      ]
    },
    {
      "cell_type": "code",
      "execution_count": null,
      "metadata": {
        "colab": {
          "base_uri": "https://localhost:8080/"
        },
        "id": "KTLzEO9IRzyb",
        "outputId": "0d4d8be9-0c45-408a-c3d9-b4ba37b80a06"
      },
      "outputs": [
        {
          "output_type": "stream",
          "name": "stdout",
          "text": [
            "22 <class 'int'>\n"
          ]
        }
      ],
      "source": [
        "a = 22\n",
        "print(a,type(a))"
      ]
    },
    {
      "cell_type": "code",
      "source": [
        "# float\n",
        "a = 22.3\n",
        "print(\"height is \",a,type(a))"
      ],
      "metadata": {
        "colab": {
          "base_uri": "https://localhost:8080/"
        },
        "id": "6OcJNlGsYscs",
        "outputId": "cb6823bb-88ef-4540-940a-666403fc7148"
      },
      "execution_count": null,
      "outputs": [
        {
          "output_type": "stream",
          "name": "stdout",
          "text": [
            "height is  22.3 <class 'float'>\n"
          ]
        }
      ]
    },
    {
      "cell_type": "code",
      "source": [
        "# complex Numbers\n",
        "a = 2 + 3j\n",
        "print(\"this is complex number\",a,type(a))"
      ],
      "metadata": {
        "colab": {
          "base_uri": "https://localhost:8080/"
        },
        "id": "ChsjqDN-ZI8B",
        "outputId": "617b29b6-c00b-4594-ff8d-51d75c8f9d12"
      },
      "execution_count": null,
      "outputs": [
        {
          "output_type": "stream",
          "name": "stdout",
          "text": [
            "this is complex number (2+3j) <class 'complex'>\n"
          ]
        }
      ]
    },
    {
      "cell_type": "code",
      "source": [
        "# list\n",
        "colors = ['red','green','blue']\n",
        "print(\"this is colors\",colors,type(colors))\n",
        "# list hetrogenious\n",
        "#mutable\n",
        "#"
      ],
      "metadata": {
        "colab": {
          "base_uri": "https://localhost:8080/"
        },
        "id": "bjk4SmODZ62T",
        "outputId": "a39c49cf-65b9-44f8-8c69-695d57070c1f"
      },
      "execution_count": null,
      "outputs": [
        {
          "output_type": "stream",
          "name": "stdout",
          "text": [
            "this is colors ['red', 'green', 'blue'] <class 'list'>\n"
          ]
        }
      ]
    },
    {
      "cell_type": "code",
      "source": [],
      "metadata": {
        "id": "Fp_HIxAjcXrl"
      },
      "execution_count": null,
      "outputs": []
    },
    {
      "cell_type": "code",
      "source": [
        "list = [1,3,4,5,8.9,5j,[10,11,12],'harshad','Vitthal',('red,green')]\n",
        "print(list)"
      ],
      "metadata": {
        "colab": {
          "base_uri": "https://localhost:8080/"
        },
        "id": "0K4ZFj4-aOyR",
        "outputId": "a52cd8a4-8563-47a6-865f-ccc171bd0896"
      },
      "execution_count": null,
      "outputs": [
        {
          "output_type": "stream",
          "name": "stdout",
          "text": [
            "[1, 3, 4, 5, 8.9, 5j, [10, 11, 12], 'harshad', 'Vitthal', 'red,green']\n"
          ]
        }
      ]
    },
    {
      "cell_type": "code",
      "source": [
        "list[6] = 1000\n",
        "list\n"
      ],
      "metadata": {
        "colab": {
          "base_uri": "https://localhost:8080/"
        },
        "id": "zVTKdfqHcgB1",
        "outputId": "fc718dfe-60ee-416e-fe8a-87df3fd49166"
      },
      "execution_count": null,
      "outputs": [
        {
          "output_type": "execute_result",
          "data": {
            "text/plain": [
              "[1000, 3, 4, 5, 8.9, 5j, 1000, 'harshad', 'Vitthal', 'red,green']"
            ]
          },
          "metadata": {},
          "execution_count": 13
        }
      ]
    },
    {
      "cell_type": "code",
      "source": [
        "list1 = [1,3,4,5,6,3] # slicing (n-1)\n",
        "\n",
        "list1[0:3]"
      ],
      "metadata": {
        "colab": {
          "base_uri": "https://localhost:8080/"
        },
        "id": "Nvhbd3WAc7ea",
        "outputId": "bf4ca273-ca9e-49d9-fb9b-82ecb8194361"
      },
      "execution_count": null,
      "outputs": [
        {
          "output_type": "execute_result",
          "data": {
            "text/plain": [
              "[1, 3, 4]"
            ]
          },
          "metadata": {},
          "execution_count": 26
        }
      ]
    },
    {
      "cell_type": "code",
      "source": [
        "print(list1[::2]) # stepping\n",
        "\n",
        "print(list1[1::2])"
      ],
      "metadata": {
        "colab": {
          "base_uri": "https://localhost:8080/"
        },
        "id": "eFckmkR6drRj",
        "outputId": "f0db7c69-ad95-42f4-be30-e7d5a95bc5b6"
      },
      "execution_count": null,
      "outputs": [
        {
          "output_type": "stream",
          "name": "stdout",
          "text": [
            "[1, 4, 6]\n",
            "[3, 5, 3]\n"
          ]
        }
      ]
    },
    {
      "cell_type": "code",
      "source": [
        "print(list1)\n",
        "list1.append(22)\n",
        "print(list1)\n"
      ],
      "metadata": {
        "colab": {
          "base_uri": "https://localhost:8080/"
        },
        "id": "3mS9qJMOgUzz",
        "outputId": "bdf7ddf3-7168-4e10-a99b-497b770fb254"
      },
      "execution_count": null,
      "outputs": [
        {
          "output_type": "stream",
          "name": "stdout",
          "text": [
            "[1, 3, 4, 5, 6, 3, 22, 22]\n",
            "[1, 3, 4, 5, 6, 3, 22, 22, 22]\n"
          ]
        }
      ]
    },
    {
      "cell_type": "code",
      "source": [
        "list1_new = list1.copy()\n",
        "list1_new"
      ],
      "metadata": {
        "colab": {
          "base_uri": "https://localhost:8080/"
        },
        "id": "oRKx-xl2gxUY",
        "outputId": "599be870-4137-4e73-b84e-5e96d6d62c0a"
      },
      "execution_count": null,
      "outputs": [
        {
          "output_type": "execute_result",
          "data": {
            "text/plain": [
              "[1, 3, 4, 5, 6, 3, 22, 22, 22]"
            ]
          },
          "metadata": {},
          "execution_count": 31
        }
      ]
    },
    {
      "cell_type": "code",
      "source": [
        "list1.count(22)\n"
      ],
      "metadata": {
        "colab": {
          "base_uri": "https://localhost:8080/"
        },
        "id": "96kFy4T-hRh9",
        "outputId": "d052d2a6-b06a-4656-e822-1d41946afd62"
      },
      "execution_count": null,
      "outputs": [
        {
          "output_type": "execute_result",
          "data": {
            "text/plain": [
              "3"
            ]
          },
          "metadata": {},
          "execution_count": 39
        }
      ]
    },
    {
      "cell_type": "code",
      "source": [
        "list1.extend([12,34,445,66])\n",
        "\n",
        "\n",
        "print(list1)"
      ],
      "metadata": {
        "colab": {
          "base_uri": "https://localhost:8080/"
        },
        "id": "A4NX3JiqiAVe",
        "outputId": "9d150be7-6a80-4b90-c563-77a707d7595c"
      },
      "execution_count": null,
      "outputs": [
        {
          "output_type": "stream",
          "name": "stdout",
          "text": [
            "[19, 4, 34, 445, 66, 12, 34, 445, 66, 19, 19, 12, 34, 445, 66]\n"
          ]
        }
      ]
    },
    {
      "cell_type": "code",
      "source": [],
      "metadata": {
        "id": "2EGuP_R2y7kB"
      },
      "execution_count": null,
      "outputs": []
    },
    {
      "cell_type": "code",
      "source": [],
      "metadata": {
        "id": "B-E0AVRuy8l1"
      },
      "execution_count": null,
      "outputs": []
    },
    {
      "cell_type": "code",
      "source": [
        "list1.insert(6,10)\n",
        "print(list1)"
      ],
      "metadata": {
        "colab": {
          "base_uri": "https://localhost:8080/"
        },
        "id": "QWjPd5pJouSb",
        "outputId": "e61d2012-80ec-44c3-c757-a9226a945626"
      },
      "execution_count": null,
      "outputs": [
        {
          "output_type": "stream",
          "name": "stdout",
          "text": [
            "[3, 19, 4, 34, 34, 445, 10, 66, 12, 34, 445, 66, 19, 19, 19]\n"
          ]
        }
      ]
    },
    {
      "cell_type": "code",
      "source": [
        "list1.remove(1)\n",
        "print(list1)"
      ],
      "metadata": {
        "colab": {
          "base_uri": "https://localhost:8080/"
        },
        "id": "GhR2dATbpfyb",
        "outputId": "b29a9a0c-0a07-42f8-816e-766b0fa4f3f8"
      },
      "execution_count": null,
      "outputs": [
        {
          "output_type": "stream",
          "name": "stdout",
          "text": [
            "[3, 4, 6, 3, 22, 22, 22, 12, 34, 445, 66, 12, 34, 445, 66, 12, 34, 445, 66, 19, 19, 19]\n"
          ]
        }
      ]
    },
    {
      "cell_type": "code",
      "source": [
        "list1.pop(0)\n",
        "print(list1)"
      ],
      "metadata": {
        "colab": {
          "base_uri": "https://localhost:8080/"
        },
        "id": "SUE7QbSMpuvY",
        "outputId": "04fe30cf-d28d-49a4-992f-846211ed0f77"
      },
      "execution_count": null,
      "outputs": [
        {
          "output_type": "stream",
          "name": "stdout",
          "text": [
            "[19, 4, 34, 445, 10, 66, 12, 34, 445, 66, 19, 19]\n"
          ]
        }
      ]
    },
    {
      "cell_type": "code",
      "source": [
        "del list1[4]\n",
        "print(list1)"
      ],
      "metadata": {
        "colab": {
          "base_uri": "https://localhost:8080/"
        },
        "id": "91gh8SKepyGg",
        "outputId": "058c4915-d67f-41ba-abad-9aefb8670ffa"
      },
      "execution_count": null,
      "outputs": [
        {
          "output_type": "stream",
          "name": "stdout",
          "text": [
            "[19, 4, 34, 445, 66, 12, 34, 445, 66, 19, 19]\n"
          ]
        }
      ]
    },
    {
      "cell_type": "code",
      "source": [
        "list1.index(3,0)\n"
      ],
      "metadata": {
        "colab": {
          "base_uri": "https://localhost:8080/"
        },
        "id": "mm4Id1tPuKqg",
        "outputId": "1d3e851d-1387-487c-b3f8-56f789b5d1b3"
      },
      "execution_count": null,
      "outputs": [
        {
          "output_type": "execute_result",
          "data": {
            "text/plain": [
              "0"
            ]
          },
          "metadata": {},
          "execution_count": 67
        }
      ]
    },
    {
      "cell_type": "code",
      "source": [
        "list1.reverse()\n",
        "list1"
      ],
      "metadata": {
        "colab": {
          "base_uri": "https://localhost:8080/"
        },
        "id": "6nWbsANFy9-t",
        "outputId": "dad2925e-e759-4dab-a4d0-3cfb8b3c1390"
      },
      "execution_count": null,
      "outputs": [
        {
          "output_type": "execute_result",
          "data": {
            "text/plain": [
              "[445, 445, 445, 66, 66, 66, 34, 34, 34, 19, 19, 19, 12, 12, 4]"
            ]
          },
          "metadata": {},
          "execution_count": 76
        }
      ]
    },
    {
      "cell_type": "code",
      "source": [
        "list1.sort()\n",
        "list1"
      ],
      "metadata": {
        "colab": {
          "base_uri": "https://localhost:8080/"
        },
        "id": "CqFrsKnMzJE4",
        "outputId": "cdbd57b8-f8eb-4744-9544-6628ff85b630"
      },
      "execution_count": null,
      "outputs": [
        {
          "output_type": "execute_result",
          "data": {
            "text/plain": [
              "[4, 12, 12, 19, 19, 19, 34, 34, 34, 66, 66, 66, 445, 445, 445]"
            ]
          },
          "metadata": {},
          "execution_count": 77
        }
      ]
    },
    {
      "cell_type": "code",
      "source": [],
      "metadata": {
        "id": "2U1okNCKzhec"
      },
      "execution_count": null,
      "outputs": []
    },
    {
      "cell_type": "markdown",
      "source": [
        "String\n"
      ],
      "metadata": {
        "id": "4cZvEkcT0Qfi"
      }
    },
    {
      "cell_type": "code",
      "source": [
        "# string\n",
        "a = 'haRshad'\n",
        "print(a,type(a))"
      ],
      "metadata": {
        "colab": {
          "base_uri": "https://localhost:8080/"
        },
        "id": "kBgJRR210Uux",
        "outputId": "7edf35ed-938a-42c6-ca1f-7f4b54e01461"
      },
      "execution_count": null,
      "outputs": [
        {
          "output_type": "stream",
          "name": "stdout",
          "text": [
            "haRshad <class 'str'>\n"
          ]
        }
      ]
    },
    {
      "cell_type": "code",
      "source": [
        "a.capitalize()"
      ],
      "metadata": {
        "colab": {
          "base_uri": "https://localhost:8080/",
          "height": 35
        },
        "id": "5RGvii0H1NA0",
        "outputId": "e3c8455c-abdc-432f-8a2a-3fe1aec067ad"
      },
      "execution_count": null,
      "outputs": [
        {
          "output_type": "execute_result",
          "data": {
            "text/plain": [
              "'harshad'"
            ],
            "application/vnd.google.colaboratory.intrinsic+json": {
              "type": "string"
            }
          },
          "metadata": {},
          "execution_count": 83
        }
      ]
    },
    {
      "cell_type": "code",
      "source": [
        "a.casefold()"
      ],
      "metadata": {
        "colab": {
          "base_uri": "https://localhost:8080/",
          "height": 35
        },
        "id": "z1G_2QKR1iht",
        "outputId": "10ae7f0a-43bb-4ed5-8af5-cd3a0f23daf7"
      },
      "execution_count": null,
      "outputs": [
        {
          "output_type": "execute_result",
          "data": {
            "text/plain": [
              "'harshad'"
            ],
            "application/vnd.google.colaboratory.intrinsic+json": {
              "type": "string"
            }
          },
          "metadata": {},
          "execution_count": 86
        }
      ]
    },
    {
      "cell_type": "code",
      "source": [
        "a.center(11,'*')"
      ],
      "metadata": {
        "colab": {
          "base_uri": "https://localhost:8080/",
          "height": 35
        },
        "id": "6WN_bYkc13UN",
        "outputId": "ec2833ff-af64-4948-85e3-b7605a3e30c6"
      },
      "execution_count": null,
      "outputs": [
        {
          "output_type": "execute_result",
          "data": {
            "text/plain": [
              "'**haRshad**'"
            ],
            "application/vnd.google.colaboratory.intrinsic+json": {
              "type": "string"
            }
          },
          "metadata": {},
          "execution_count": 92
        }
      ]
    },
    {
      "cell_type": "code",
      "source": [
        "a.count('a',3)"
      ],
      "metadata": {
        "colab": {
          "base_uri": "https://localhost:8080/"
        },
        "id": "tSva0rRh217_",
        "outputId": "a3875bce-9d20-481b-ca67-0e439853332c"
      },
      "execution_count": null,
      "outputs": [
        {
          "output_type": "execute_result",
          "data": {
            "text/plain": [
              "1"
            ]
          },
          "metadata": {},
          "execution_count": 94
        }
      ]
    },
    {
      "cell_type": "code",
      "source": [
        "a.lower()"
      ],
      "metadata": {
        "colab": {
          "base_uri": "https://localhost:8080/",
          "height": 35
        },
        "id": "eM-fK_B93zWp",
        "outputId": "068e5eb4-ed22-464e-da51-457e9e7a2904"
      },
      "execution_count": null,
      "outputs": [
        {
          "output_type": "execute_result",
          "data": {
            "text/plain": [
              "'harshad'"
            ],
            "application/vnd.google.colaboratory.intrinsic+json": {
              "type": "string"
            }
          },
          "metadata": {},
          "execution_count": 95
        }
      ]
    },
    {
      "cell_type": "code",
      "source": [
        "s = \"Hello World\"\n",
        "print(s.swapcase())\n"
      ],
      "metadata": {
        "colab": {
          "base_uri": "https://localhost:8080/"
        },
        "id": "ngo3xutw36K3",
        "outputId": "b56223f4-7abc-4257-9c13-288b7fdf87b0"
      },
      "execution_count": null,
      "outputs": [
        {
          "output_type": "stream",
          "name": "stdout",
          "text": [
            "hELLO wORLD\n"
          ]
        }
      ]
    },
    {
      "cell_type": "code",
      "source": [
        "\n",
        "print(s.find(\"World\"))\n",
        "s.endswith(\"World\")\n"
      ],
      "metadata": {
        "colab": {
          "base_uri": "https://localhost:8080/"
        },
        "id": "gErTrx4G4BO6",
        "outputId": "7053bc88-2035-43d1-8ef5-58ba1d6b1f13"
      },
      "execution_count": null,
      "outputs": [
        {
          "output_type": "stream",
          "name": "stdout",
          "text": [
            "6\n"
          ]
        }
      ]
    },
    {
      "cell_type": "code",
      "source": [
        "\n",
        "print(s.replace(\"World\", \"Python\"))\n"
      ],
      "metadata": {
        "colab": {
          "base_uri": "https://localhost:8080/"
        },
        "id": "H8Jh_K6A4KV9",
        "outputId": "ce7f0ee2-44cf-42f8-efcd-86fb2b0b13c5"
      },
      "execution_count": null,
      "outputs": [
        {
          "output_type": "stream",
          "name": "stdout",
          "text": [
            "Hello Python\n"
          ]
        }
      ]
    },
    {
      "cell_type": "code",
      "source": [
        "s = \"Hello World\"\n",
        "print(s.split())\n",
        "print(s.split('o'))\n"
      ],
      "metadata": {
        "colab": {
          "base_uri": "https://localhost:8080/"
        },
        "id": "P_3jDrFT4Q1p",
        "outputId": "bbb504ef-b7ca-4b24-a113-da3ae43d3366"
      },
      "execution_count": null,
      "outputs": [
        {
          "output_type": "stream",
          "name": "stdout",
          "text": [
            "['Hello', 'World']\n"
          ]
        }
      ]
    },
    {
      "cell_type": "code",
      "source": [
        "s = \"-\"\n",
        "print(s.join([\"Hello\", \"World\"]))\n"
      ],
      "metadata": {
        "colab": {
          "base_uri": "https://localhost:8080/"
        },
        "id": "QYOnw3xs4WoY",
        "outputId": "f4d3af2c-5354-468a-b1eb-03bfe2b04f60"
      },
      "execution_count": null,
      "outputs": [
        {
          "output_type": "stream",
          "name": "stdout",
          "text": [
            "Hello-World\n"
          ]
        }
      ]
    },
    {
      "cell_type": "code",
      "source": [
        "a = \" my Name is {Name}\"\n",
        "print(a.format(Name=\"Harshad\"))"
      ],
      "metadata": {
        "id": "bQHCm72y_YZb"
      },
      "execution_count": null,
      "outputs": []
    },
    {
      "cell_type": "code",
      "source": [],
      "metadata": {
        "id": "lZwL-uUSRG79"
      },
      "execution_count": null,
      "outputs": []
    },
    {
      "cell_type": "code",
      "source": [
        "a = int(input(\"enter a number: \",))\n",
        "b = int(input(\"enter a 2nd number: \",))\n",
        "c = a - b\n",
        "print(c)"
      ],
      "metadata": {
        "id": "4rizyRg54q8Z"
      },
      "execution_count": null,
      "outputs": []
    },
    {
      "cell_type": "code",
      "source": [
        "day = 'Sunday'\n",
        "day[0] = q\n",
        "day"
      ],
      "metadata": {
        "id": "scQlIJfCRH4K"
      },
      "execution_count": null,
      "outputs": []
    }
  ]
}