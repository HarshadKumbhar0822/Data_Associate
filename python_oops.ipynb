{
  "nbformat": 4,
  "nbformat_minor": 0,
  "metadata": {
    "colab": {
      "provenance": [],
      "authorship_tag": "ABX9TyNzJTDxar/kza7oKXVO/KmJ",
      "include_colab_link": true
    },
    "kernelspec": {
      "name": "python3",
      "display_name": "Python 3"
    },
    "language_info": {
      "name": "python"
    }
  },
  "cells": [
    {
      "cell_type": "markdown",
      "metadata": {
        "id": "view-in-github",
        "colab_type": "text"
      },
      "source": [
        "<a href=\"https://colab.research.google.com/github/HarshadKumbhar0822/Data_Associate/blob/main/python_oops.ipynb\" target=\"_parent\"><img src=\"https://colab.research.google.com/assets/colab-badge.svg\" alt=\"Open In Colab\"/></a>"
      ]
    },
    {
      "cell_type": "code",
      "source": [
        "class Vehicle:\n",
        "  def __init__(self, brand, model, type):\n",
        "    self.b = brand\n",
        "    self.m = model\n",
        "    self.t = type\n",
        "    self.tyre_volume = 40\n",
        "    self.tyre_v_level = 0\n",
        "    self.gas_tank_size = 14\n",
        "    self.fuel_level = 0\n",
        "\n",
        "  def add_tyre(self):\n",
        "    self.tyre_volume = self.tyre_v_level\n",
        "    print(\"tyre air volume is less \")\n",
        "\n",
        "  def fuel_up (self):\n",
        "    self.fuel_level = self.gas_tank_size\n",
        "    print(\"Gas tank is full now\")\n"
      ],
      "metadata": {
        "id": "MKXQl_h1-F5-"
      },
      "execution_count": null,
      "outputs": []
    },
    {
      "cell_type": "code",
      "source": [
        "# prompt: tyre volume level is above 40 display tyre air pressure is full ,less so air volume is less\n",
        "\n",
        "class Vehicle:\n",
        "  def __init__(self, brand, model, type):\n",
        "    self.b = brand\n",
        "    self.m = model\n",
        "    self.t = type\n",
        "    self.tyre_volume = 40\n",
        "    self.tyre_v_level = 0\n",
        "    self.gas_tank_size = 14\n",
        "    self.fuel_level = 0\n",
        "\n",
        "    self.speed_level = 80\n",
        "    self.speed_v_level = 0\n",
        "\n",
        "  def add_tyre(self):\n",
        "    self.tyre_v_level = int(input(\"Enter tyre volume level: \"))\n",
        "    if self.tyre_v_level > self.tyre_volume:\n",
        "      print(\"Tyre air pressure is full\")\n",
        "    elif self.tyre_v_level == self.tyre_volume:\n",
        "      print(\"Tyre air volume is correct\")\n",
        "    else:\n",
        "      print(\"Tyre air volume is less\")\n",
        "\n",
        "  def fuel_up (self):\n",
        "    self.fuel_level = self.gas_tank_size\n",
        "    print(\"Gas tank is over now\")\n",
        "\n",
        "  def speed (self):\n",
        "    self.speed_level = int(input(\"Enter speed level: \"))\n",
        "    if self.speed_level > self.speed_v_level:\n",
        "      print(\"Speed is over\")\n",
        "\n",
        "    else:\n",
        "      print(\"Speed is less\")\n",
        "\n",
        "\n",
        "\n",
        "# Example usage\n",
        "car = Vehicle(\"Toyota\", \"Corolla\", \"Sedan\")\n",
        "car.add_tyre()\n",
        "car.fuel_up()\n",
        "car.speed()\n",
        "\n"
      ],
      "metadata": {
        "colab": {
          "base_uri": "https://localhost:8080/"
        },
        "id": "8jeFgCtsFkIX",
        "outputId": "12a0084c-4f4c-4a55-ce26-6c98e420ac39"
      },
      "execution_count": null,
      "outputs": [
        {
          "output_type": "stream",
          "name": "stdout",
          "text": [
            "Enter tyre volume level: 38\n",
            "Tyre air volume is less\n"
          ]
        }
      ]
    }
  ]
}